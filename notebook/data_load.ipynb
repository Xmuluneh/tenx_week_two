{
 "cells": [
  {
   "cell_type": "code",
   "execution_count": 6,
   "id": "f5c1ef44",
   "metadata": {},
   "outputs": [],
   "source": [
    "import pandas as pd"
   ]
  },
  {
   "cell_type": "code",
   "execution_count": null,
   "id": "88a3f638-2209-4e56-969f-8291fee15346",
   "metadata": {},
   "outputs": [],
   "source": []
  },
  {
   "cell_type": "code",
   "execution_count": 7,
   "id": "705b7e03",
   "metadata": {},
   "outputs": [],
   "source": [
    "with open('../data/20181024_d1_0830_0900.csv','r') as f:\n",
    "    lines=f.readlines()\n",
    "\n",
    "columns=lines[0].replace('\\n','').split(';')\n",
    "data=lines[1:]"
   ]
  },
  {
   "cell_type": "code",
   "execution_count": 8,
   "id": "c38c5519-9336-4ada-9753-567b51aa3081",
   "metadata": {},
   "outputs": [
    {
     "data": {
      "text/plain": [
       "['track_id', ' type', ' traveled_d', ' avg_speed']"
      ]
     },
     "execution_count": 8,
     "metadata": {},
     "output_type": "execute_result"
    }
   ],
   "source": [
    "columns[:4]"
   ]
  },
  {
   "cell_type": "code",
   "execution_count": 9,
   "id": "55f5e0d0-67fb-4bed-9d87-057592fcb709",
   "metadata": {},
   "outputs": [
    {
     "data": {
      "text/plain": [
       "[' lat', ' lon', ' speed', ' lon_acc', ' lat_acc', ' time']"
      ]
     },
     "execution_count": 9,
     "metadata": {},
     "output_type": "execute_result"
    }
   ],
   "source": [
    "columns[4:]"
   ]
  },
  {
   "cell_type": "markdown",
   "id": "e715c4c0-088b-4eeb-bac5-e69df3020a63",
   "metadata": {},
   "source": [
    "– the first 10 columns in the 1st row include the columns’ names\n",
    "\n",
    "– the first 4 columns include information about the trajectory \n",
    "     - unique trackID,\n",
    "     - the type of vehicle,\n",
    "     - the distance traveled in meters and\n",
    "     - the average speed of the vehicle in km/h\n",
    "– the last 6 columns are then repeated every 6 columns based on the time frequency.\n",
    " For example, column_5 contains the latitude of the vehicle at time column_10, and column­­­_11 contains the latitude of the vehicle at time column_16.\n",
    "– Speed is in km/h, Longitudinal and Lateral Acceleration in m/sec2 and time in seconds."
   ]
  },
  {
   "cell_type": "code",
   "execution_count": null,
   "id": "7759c392-bebf-47fb-b7a1-84e95861a38b",
   "metadata": {},
   "outputs": [],
   "source": []
  }
 ],
 "metadata": {
  "kernelspec": {
   "display_name": "Python 3 (ipykernel)",
   "language": "python",
   "name": "python3"
  },
  "language_info": {
   "codemirror_mode": {
    "name": "ipython",
    "version": 3
   },
   "file_extension": ".py",
   "mimetype": "text/x-python",
   "name": "python",
   "nbconvert_exporter": "python",
   "pygments_lexer": "ipython3",
   "version": "3.9.18"
  }
 },
 "nbformat": 4,
 "nbformat_minor": 5
}
