{
 "cells": [
  {
   "cell_type": "code",
   "execution_count": 37,
   "id": "f5c1ef44",
   "metadata": {},
   "outputs": [],
   "source": [
    "import pandas as pd"
   ]
  },
  {
   "cell_type": "code",
   "execution_count": 38,
   "id": "705b7e03",
   "metadata": {},
   "outputs": [],
   "source": [
    "with open('../data/20181024_d1_0830_0900.csv','r') as f:\n",
    "    lines=f.readlines()\n",
    "\n",
    "columns=lines[0].replace('\\n','').split(';')\n",
    "data=lines[1:]"
   ]
  },
  {
   "cell_type": "code",
   "execution_count": 39,
   "id": "ceaf88b3-992e-423f-9d82-33176e4bbb0f",
   "metadata": {},
   "outputs": [],
   "source": [
    "import sys,os\n",
    "sys.path.append(\"../scripts/\")\n",
    "from data_extraction import DataExtractor"
   ]
  },
  {
   "cell_type": "code",
   "execution_count": 40,
   "id": "01298ae7-b471-4346-83fc-485730359f6c",
   "metadata": {},
   "outputs": [],
   "source": [
    "with open('../data/20181024_d1_0830_0900.csv','r') as f:\n",
    "    lines=f.readlines()\n",
    "\n",
    "columns=lines[0].replace('\\n','').split(';')\n",
    "data=lines[1:]"
   ]
  },
  {
   "cell_type": "code",
   "execution_count": 41,
   "id": "efbfdd0f-f28a-4f51-81ff-f1031a5a0c8b",
   "metadata": {},
   "outputs": [],
   "source": [
    "data_extractor = DataExtractor()"
   ]
  },
  {
   "cell_type": "code",
   "execution_count": 42,
   "id": "c38c5519-9336-4ada-9753-567b51aa3081",
   "metadata": {},
   "outputs": [
    {
     "data": {
      "text/plain": [
       "['track_id', ' type', ' traveled_d', ' avg_speed']"
      ]
     },
     "execution_count": 42,
     "metadata": {},
     "output_type": "execute_result"
    }
   ],
   "source": [
    "columns[:4]"
   ]
  },
  {
   "cell_type": "code",
   "execution_count": 43,
   "id": "55f5e0d0-67fb-4bed-9d87-057592fcb709",
   "metadata": {},
   "outputs": [
    {
     "data": {
      "text/plain": [
       "[' lat', ' lon', ' speed', ' lon_acc', ' lat_acc', ' time']"
      ]
     },
     "execution_count": 43,
     "metadata": {},
     "output_type": "execute_result"
    }
   ],
   "source": [
    "columns[4:]"
   ]
  },
  {
   "cell_type": "markdown",
   "id": "e715c4c0-088b-4eeb-bac5-e69df3020a63",
   "metadata": {},
   "source": [
    "- the first 10 columns in the 1st row include the columns’ names\n",
    "\n",
    "- the first 4 columns include information about the trajectory \n",
    "     - unique trackID,\n",
    "     - the type of vehicle,\n",
    "     - the distance traveled in meters and\n",
    "     - the average speed of the vehicle in km/h\n",
    "- the last 6 columns are then repeated every 6 columns based on the time frequency."
   ]
  },
  {
   "cell_type": "code",
   "execution_count": 44,
   "id": "a970ecc3-035b-436d-8a02-c3d34bb056f7",
   "metadata": {},
   "outputs": [],
   "source": [
    "def new_list(list,new_size,default_first_val=None):\n",
    "    new_list=[]\n",
    "    for i in range(0, len(list), new_size):\n",
    "        if default_first_val:\n",
    "            values=[default_first_val]\n",
    "            values.extend(list[i:i+new_size])\n",
    "            new_list.append(values)\n",
    "        else:\n",
    "            new_list.append(list[i:i+chunk_size])\n",
    "\n",
    "    return new_list"
   ]
  },
  {
   "cell_type": "code",
   "execution_count": 45,
   "id": "3f1b5856-2a74-454a-bed1-a5cf6b11c1c0",
   "metadata": {},
   "outputs": [],
   "source": [
    "trajectory_cols=columns[:4]\n",
    "trajectory_rows=[]\n",
    "\n",
    "timed_vehicle_cols=['track_id']+columns[4:]\n",
    "timed_vehicle_rows=[]\n",
    "\n",
    "for row in data:\n",
    "    items=row.replace('\\n','').split(';')\n",
    "    trajectory_rows.append(items[:4])\n",
    "    timed_vehicle_rows.extend(chunk_list(items[4:],6,items[0]))"
   ]
  },
  {
   "cell_type": "code",
   "execution_count": 46,
   "id": "3a0736ce-2c2e-4aeb-8f9c-3076294b3674",
   "metadata": {},
   "outputs": [],
   "source": [
    "trajectory_data=pd.DataFrame(columns=trajectory_cols,data=trajectory_rows)\n",
    "timed_vehicle_data=pd.DataFrame(columns=timed_vehicle_cols,data=timed_vehicle_rows)"
   ]
  },
  {
   "cell_type": "code",
   "execution_count": 47,
   "id": "055384a4-5cd8-446f-a503-5ab161379dee",
   "metadata": {},
   "outputs": [
    {
     "data": {
      "text/html": [
       "<div>\n",
       "<style scoped>\n",
       "    .dataframe tbody tr th:only-of-type {\n",
       "        vertical-align: middle;\n",
       "    }\n",
       "\n",
       "    .dataframe tbody tr th {\n",
       "        vertical-align: top;\n",
       "    }\n",
       "\n",
       "    .dataframe thead th {\n",
       "        text-align: right;\n",
       "    }\n",
       "</style>\n",
       "<table border=\"1\" class=\"dataframe\">\n",
       "  <thead>\n",
       "    <tr style=\"text-align: right;\">\n",
       "      <th></th>\n",
       "      <th>track_id</th>\n",
       "      <th>type</th>\n",
       "      <th>traveled_d</th>\n",
       "      <th>avg_speed</th>\n",
       "    </tr>\n",
       "  </thead>\n",
       "  <tbody>\n",
       "    <tr>\n",
       "      <th>0</th>\n",
       "      <td>1</td>\n",
       "      <td>Car</td>\n",
       "      <td>48.85</td>\n",
       "      <td>9.770344</td>\n",
       "    </tr>\n",
       "    <tr>\n",
       "      <th>1</th>\n",
       "      <td>2</td>\n",
       "      <td>Motorcycle</td>\n",
       "      <td>98.09</td>\n",
       "      <td>19.839417</td>\n",
       "    </tr>\n",
       "    <tr>\n",
       "      <th>2</th>\n",
       "      <td>3</td>\n",
       "      <td>Motorcycle</td>\n",
       "      <td>63.80</td>\n",
       "      <td>18.228752</td>\n",
       "    </tr>\n",
       "    <tr>\n",
       "      <th>3</th>\n",
       "      <td>4</td>\n",
       "      <td>Motorcycle</td>\n",
       "      <td>145.72</td>\n",
       "      <td>26.229014</td>\n",
       "    </tr>\n",
       "    <tr>\n",
       "      <th>4</th>\n",
       "      <td>5</td>\n",
       "      <td>Motorcycle</td>\n",
       "      <td>138.01</td>\n",
       "      <td>24.841425</td>\n",
       "    </tr>\n",
       "  </tbody>\n",
       "</table>\n",
       "</div>"
      ],
      "text/plain": [
       "  track_id         type  traveled_d   avg_speed\n",
       "0        1          Car       48.85    9.770344\n",
       "1        2   Motorcycle       98.09   19.839417\n",
       "2        3   Motorcycle       63.80   18.228752\n",
       "3        4   Motorcycle      145.72   26.229014\n",
       "4        5   Motorcycle      138.01   24.841425"
      ]
     },
     "execution_count": 47,
     "metadata": {},
     "output_type": "execute_result"
    }
   ],
   "source": [
    "trajectory_data.head()"
   ]
  },
  {
   "cell_type": "code",
   "execution_count": 48,
   "id": "835b165e-5a1c-46d9-9cbc-d60669c26f15",
   "metadata": {},
   "outputs": [
    {
     "data": {
      "text/html": [
       "<div>\n",
       "<style scoped>\n",
       "    .dataframe tbody tr th:only-of-type {\n",
       "        vertical-align: middle;\n",
       "    }\n",
       "\n",
       "    .dataframe tbody tr th {\n",
       "        vertical-align: top;\n",
       "    }\n",
       "\n",
       "    .dataframe thead th {\n",
       "        text-align: right;\n",
       "    }\n",
       "</style>\n",
       "<table border=\"1\" class=\"dataframe\">\n",
       "  <thead>\n",
       "    <tr style=\"text-align: right;\">\n",
       "      <th></th>\n",
       "      <th>track_id</th>\n",
       "      <th>lat</th>\n",
       "      <th>lon</th>\n",
       "      <th>speed</th>\n",
       "      <th>lon_acc</th>\n",
       "      <th>lat_acc</th>\n",
       "      <th>time</th>\n",
       "    </tr>\n",
       "  </thead>\n",
       "  <tbody>\n",
       "    <tr>\n",
       "      <th>0</th>\n",
       "      <td>1</td>\n",
       "      <td>37.977391</td>\n",
       "      <td>23.737688</td>\n",
       "      <td>4.9178</td>\n",
       "      <td>0.0518</td>\n",
       "      <td>-0.0299</td>\n",
       "      <td>0.000000</td>\n",
       "    </tr>\n",
       "    <tr>\n",
       "      <th>1</th>\n",
       "      <td>1</td>\n",
       "      <td>37.977391</td>\n",
       "      <td>23.737688</td>\n",
       "      <td>4.9207</td>\n",
       "      <td>-0.0124</td>\n",
       "      <td>-0.0354</td>\n",
       "      <td>0.040000</td>\n",
       "    </tr>\n",
       "    <tr>\n",
       "      <th>2</th>\n",
       "      <td>1</td>\n",
       "      <td>37.977391</td>\n",
       "      <td>23.737688</td>\n",
       "      <td>4.9160</td>\n",
       "      <td>-0.0519</td>\n",
       "      <td>-0.0413</td>\n",
       "      <td>0.080000</td>\n",
       "    </tr>\n",
       "    <tr>\n",
       "      <th>3</th>\n",
       "      <td>1</td>\n",
       "      <td>37.977390</td>\n",
       "      <td>23.737688</td>\n",
       "      <td>4.9057</td>\n",
       "      <td>-0.0914</td>\n",
       "      <td>-0.0478</td>\n",
       "      <td>0.120000</td>\n",
       "    </tr>\n",
       "    <tr>\n",
       "      <th>4</th>\n",
       "      <td>1</td>\n",
       "      <td>37.977390</td>\n",
       "      <td>23.737689</td>\n",
       "      <td>4.8871</td>\n",
       "      <td>-0.1679</td>\n",
       "      <td>-0.0550</td>\n",
       "      <td>0.160000</td>\n",
       "    </tr>\n",
       "  </tbody>\n",
       "</table>\n",
       "</div>"
      ],
      "text/plain": [
       "  track_id         lat         lon    speed   lon_acc   lat_acc       time\n",
       "0        1   37.977391   23.737688   4.9178    0.0518   -0.0299   0.000000\n",
       "1        1   37.977391   23.737688   4.9207   -0.0124   -0.0354   0.040000\n",
       "2        1   37.977391   23.737688   4.9160   -0.0519   -0.0413   0.080000\n",
       "3        1   37.977390   23.737688   4.9057   -0.0914   -0.0478   0.120000\n",
       "4        1   37.977390   23.737689   4.8871   -0.1679   -0.0550   0.160000"
      ]
     },
     "execution_count": 48,
     "metadata": {},
     "output_type": "execute_result"
    }
   ],
   "source": [
    "timed_vehicle_data.head()"
   ]
  },
  {
   "cell_type": "code",
   "execution_count": 49,
   "id": "c8beab38-5e5c-47cc-b6bf-1acbe90b5117",
   "metadata": {},
   "outputs": [],
   "source": [
    "#test script works as expected\n",
    "loaded_df=data_extractor.extract_data(file_name='20181024_d1_0830_0900.csv')"
   ]
  },
  {
   "cell_type": "code",
   "execution_count": 50,
   "id": "1f29b24b-8322-4ea6-b63e-52c2bc8943dc",
   "metadata": {},
   "outputs": [
    {
     "data": {
      "text/html": [
       "<div>\n",
       "<style scoped>\n",
       "    .dataframe tbody tr th:only-of-type {\n",
       "        vertical-align: middle;\n",
       "    }\n",
       "\n",
       "    .dataframe tbody tr th {\n",
       "        vertical-align: top;\n",
       "    }\n",
       "\n",
       "    .dataframe thead th {\n",
       "        text-align: right;\n",
       "    }\n",
       "</style>\n",
       "<table border=\"1\" class=\"dataframe\">\n",
       "  <thead>\n",
       "    <tr style=\"text-align: right;\">\n",
       "      <th></th>\n",
       "      <th>track_id</th>\n",
       "      <th>type</th>\n",
       "      <th>traveled_d</th>\n",
       "      <th>avg_speed</th>\n",
       "    </tr>\n",
       "  </thead>\n",
       "  <tbody>\n",
       "    <tr>\n",
       "      <th>0</th>\n",
       "      <td>20181024_d1_0830_0900_1</td>\n",
       "      <td>Car</td>\n",
       "      <td>48.85</td>\n",
       "      <td>9.770344</td>\n",
       "    </tr>\n",
       "    <tr>\n",
       "      <th>1</th>\n",
       "      <td>20181024_d1_0830_0900_2</td>\n",
       "      <td>Motorcycle</td>\n",
       "      <td>98.09</td>\n",
       "      <td>19.839417</td>\n",
       "    </tr>\n",
       "    <tr>\n",
       "      <th>2</th>\n",
       "      <td>20181024_d1_0830_0900_3</td>\n",
       "      <td>Motorcycle</td>\n",
       "      <td>63.80</td>\n",
       "      <td>18.228752</td>\n",
       "    </tr>\n",
       "    <tr>\n",
       "      <th>3</th>\n",
       "      <td>20181024_d1_0830_0900_4</td>\n",
       "      <td>Motorcycle</td>\n",
       "      <td>145.72</td>\n",
       "      <td>26.229014</td>\n",
       "    </tr>\n",
       "    <tr>\n",
       "      <th>4</th>\n",
       "      <td>20181024_d1_0830_0900_5</td>\n",
       "      <td>Motorcycle</td>\n",
       "      <td>138.01</td>\n",
       "      <td>24.841425</td>\n",
       "    </tr>\n",
       "  </tbody>\n",
       "</table>\n",
       "</div>"
      ],
      "text/plain": [
       "                  track_id         type  traveled_d   avg_speed\n",
       "0  20181024_d1_0830_0900_1          Car       48.85    9.770344\n",
       "1  20181024_d1_0830_0900_2   Motorcycle       98.09   19.839417\n",
       "2  20181024_d1_0830_0900_3   Motorcycle       63.80   18.228752\n",
       "3  20181024_d1_0830_0900_4   Motorcycle      145.72   26.229014\n",
       "4  20181024_d1_0830_0900_5   Motorcycle      138.01   24.841425"
      ]
     },
     "metadata": {},
     "output_type": "display_data"
    },
    {
     "data": {
      "text/html": [
       "<div>\n",
       "<style scoped>\n",
       "    .dataframe tbody tr th:only-of-type {\n",
       "        vertical-align: middle;\n",
       "    }\n",
       "\n",
       "    .dataframe tbody tr th {\n",
       "        vertical-align: top;\n",
       "    }\n",
       "\n",
       "    .dataframe thead th {\n",
       "        text-align: right;\n",
       "    }\n",
       "</style>\n",
       "<table border=\"1\" class=\"dataframe\">\n",
       "  <thead>\n",
       "    <tr style=\"text-align: right;\">\n",
       "      <th></th>\n",
       "      <th>track_id</th>\n",
       "      <th>lat</th>\n",
       "      <th>lon</th>\n",
       "      <th>speed</th>\n",
       "      <th>lon_acc</th>\n",
       "      <th>lat_acc</th>\n",
       "      <th>time</th>\n",
       "    </tr>\n",
       "  </thead>\n",
       "  <tbody>\n",
       "    <tr>\n",
       "      <th>0</th>\n",
       "      <td>20181024_d1_0830_0900_1</td>\n",
       "      <td>37.977391</td>\n",
       "      <td>23.737688</td>\n",
       "      <td>4.9178</td>\n",
       "      <td>0.0518</td>\n",
       "      <td>-0.0299</td>\n",
       "      <td>0.000000</td>\n",
       "    </tr>\n",
       "    <tr>\n",
       "      <th>1</th>\n",
       "      <td>20181024_d1_0830_0900_1</td>\n",
       "      <td>37.977391</td>\n",
       "      <td>23.737688</td>\n",
       "      <td>4.9207</td>\n",
       "      <td>-0.0124</td>\n",
       "      <td>-0.0354</td>\n",
       "      <td>0.040000</td>\n",
       "    </tr>\n",
       "    <tr>\n",
       "      <th>2</th>\n",
       "      <td>20181024_d1_0830_0900_1</td>\n",
       "      <td>37.977391</td>\n",
       "      <td>23.737688</td>\n",
       "      <td>4.9160</td>\n",
       "      <td>-0.0519</td>\n",
       "      <td>-0.0413</td>\n",
       "      <td>0.080000</td>\n",
       "    </tr>\n",
       "    <tr>\n",
       "      <th>3</th>\n",
       "      <td>20181024_d1_0830_0900_1</td>\n",
       "      <td>37.977390</td>\n",
       "      <td>23.737688</td>\n",
       "      <td>4.9057</td>\n",
       "      <td>-0.0914</td>\n",
       "      <td>-0.0478</td>\n",
       "      <td>0.120000</td>\n",
       "    </tr>\n",
       "    <tr>\n",
       "      <th>4</th>\n",
       "      <td>20181024_d1_0830_0900_1</td>\n",
       "      <td>37.977390</td>\n",
       "      <td>23.737689</td>\n",
       "      <td>4.8871</td>\n",
       "      <td>-0.1679</td>\n",
       "      <td>-0.0550</td>\n",
       "      <td>0.160000</td>\n",
       "    </tr>\n",
       "  </tbody>\n",
       "</table>\n",
       "</div>"
      ],
      "text/plain": [
       "                  track_id         lat         lon    speed   lon_acc  \\\n",
       "0  20181024_d1_0830_0900_1   37.977391   23.737688   4.9178    0.0518   \n",
       "1  20181024_d1_0830_0900_1   37.977391   23.737688   4.9207   -0.0124   \n",
       "2  20181024_d1_0830_0900_1   37.977391   23.737688   4.9160   -0.0519   \n",
       "3  20181024_d1_0830_0900_1   37.977390   23.737688   4.9057   -0.0914   \n",
       "4  20181024_d1_0830_0900_1   37.977390   23.737689   4.8871   -0.1679   \n",
       "\n",
       "    lat_acc       time  \n",
       "0   -0.0299   0.000000  \n",
       "1   -0.0354   0.040000  \n",
       "2   -0.0413   0.080000  \n",
       "3   -0.0478   0.120000  \n",
       "4   -0.0550   0.160000  "
      ]
     },
     "metadata": {},
     "output_type": "display_data"
    }
   ],
   "source": [
    "# dispaly the result\n",
    "trajectory,vehicle=loaded_df\n",
    "display(trajectory.head())\n",
    "display(vehicle.head())"
   ]
  },
  {
   "cell_type": "code",
   "execution_count": 51,
   "id": "943253d2-c51c-433a-971a-139fa0c683b8",
   "metadata": {},
   "outputs": [
    {
     "data": {
      "text/html": [
       "<div>\n",
       "<style scoped>\n",
       "    .dataframe tbody tr th:only-of-type {\n",
       "        vertical-align: middle;\n",
       "    }\n",
       "\n",
       "    .dataframe tbody tr th {\n",
       "        vertical-align: top;\n",
       "    }\n",
       "\n",
       "    .dataframe thead th {\n",
       "        text-align: right;\n",
       "    }\n",
       "</style>\n",
       "<table border=\"1\" class=\"dataframe\">\n",
       "  <thead>\n",
       "    <tr style=\"text-align: right;\">\n",
       "      <th></th>\n",
       "      <th>track_id</th>\n",
       "      <th>lat</th>\n",
       "      <th>lon</th>\n",
       "      <th>speed</th>\n",
       "      <th>lon_acc</th>\n",
       "      <th>lat_acc</th>\n",
       "      <th>time</th>\n",
       "    </tr>\n",
       "  </thead>\n",
       "  <tbody>\n",
       "    <tr>\n",
       "      <th>0</th>\n",
       "      <td>20181024_d1_0830_0900_1</td>\n",
       "      <td>37.977391</td>\n",
       "      <td>23.737688</td>\n",
       "      <td>4.9178</td>\n",
       "      <td>0.0518</td>\n",
       "      <td>-0.0299</td>\n",
       "      <td>0.000000</td>\n",
       "    </tr>\n",
       "    <tr>\n",
       "      <th>1</th>\n",
       "      <td>20181024_d1_0830_0900_1</td>\n",
       "      <td>37.977391</td>\n",
       "      <td>23.737688</td>\n",
       "      <td>4.9207</td>\n",
       "      <td>-0.0124</td>\n",
       "      <td>-0.0354</td>\n",
       "      <td>0.040000</td>\n",
       "    </tr>\n",
       "    <tr>\n",
       "      <th>2</th>\n",
       "      <td>20181024_d1_0830_0900_1</td>\n",
       "      <td>37.977391</td>\n",
       "      <td>23.737688</td>\n",
       "      <td>4.9160</td>\n",
       "      <td>-0.0519</td>\n",
       "      <td>-0.0413</td>\n",
       "      <td>0.080000</td>\n",
       "    </tr>\n",
       "    <tr>\n",
       "      <th>3</th>\n",
       "      <td>20181024_d1_0830_0900_1</td>\n",
       "      <td>37.977390</td>\n",
       "      <td>23.737688</td>\n",
       "      <td>4.9057</td>\n",
       "      <td>-0.0914</td>\n",
       "      <td>-0.0478</td>\n",
       "      <td>0.120000</td>\n",
       "    </tr>\n",
       "    <tr>\n",
       "      <th>4</th>\n",
       "      <td>20181024_d1_0830_0900_1</td>\n",
       "      <td>37.977390</td>\n",
       "      <td>23.737689</td>\n",
       "      <td>4.8871</td>\n",
       "      <td>-0.1679</td>\n",
       "      <td>-0.0550</td>\n",
       "      <td>0.160000</td>\n",
       "    </tr>\n",
       "    <tr>\n",
       "      <th>5</th>\n",
       "      <td>20181024_d1_0830_0900_1</td>\n",
       "      <td>37.977389</td>\n",
       "      <td>23.737689</td>\n",
       "      <td>4.8547</td>\n",
       "      <td>-0.2815</td>\n",
       "      <td>-0.0628</td>\n",
       "      <td>0.200000</td>\n",
       "    </tr>\n",
       "    <tr>\n",
       "      <th>6</th>\n",
       "      <td>20181024_d1_0830_0900_1</td>\n",
       "      <td>37.977389</td>\n",
       "      <td>23.737689</td>\n",
       "      <td>4.8033</td>\n",
       "      <td>-0.4320</td>\n",
       "      <td>-0.0713</td>\n",
       "      <td>0.240000</td>\n",
       "    </tr>\n",
       "    <tr>\n",
       "      <th>7</th>\n",
       "      <td>20181024_d1_0830_0900_1</td>\n",
       "      <td>37.977388</td>\n",
       "      <td>23.737690</td>\n",
       "      <td>4.7318</td>\n",
       "      <td>-0.5617</td>\n",
       "      <td>-0.0804</td>\n",
       "      <td>0.280000</td>\n",
       "    </tr>\n",
       "    <tr>\n",
       "      <th>8</th>\n",
       "      <td>20181024_d1_0830_0900_1</td>\n",
       "      <td>37.977388</td>\n",
       "      <td>23.737690</td>\n",
       "      <td>4.6442</td>\n",
       "      <td>-0.6543</td>\n",
       "      <td>-0.0905</td>\n",
       "      <td>0.320000</td>\n",
       "    </tr>\n",
       "    <tr>\n",
       "      <th>9</th>\n",
       "      <td>20181024_d1_0830_0900_1</td>\n",
       "      <td>37.977388</td>\n",
       "      <td>23.737690</td>\n",
       "      <td>4.5437</td>\n",
       "      <td>-0.7413</td>\n",
       "      <td>-0.1017</td>\n",
       "      <td>0.360000</td>\n",
       "    </tr>\n",
       "  </tbody>\n",
       "</table>\n",
       "</div>"
      ],
      "text/plain": [
       "                  track_id         lat         lon    speed   lon_acc  \\\n",
       "0  20181024_d1_0830_0900_1   37.977391   23.737688   4.9178    0.0518   \n",
       "1  20181024_d1_0830_0900_1   37.977391   23.737688   4.9207   -0.0124   \n",
       "2  20181024_d1_0830_0900_1   37.977391   23.737688   4.9160   -0.0519   \n",
       "3  20181024_d1_0830_0900_1   37.977390   23.737688   4.9057   -0.0914   \n",
       "4  20181024_d1_0830_0900_1   37.977390   23.737689   4.8871   -0.1679   \n",
       "5  20181024_d1_0830_0900_1   37.977389   23.737689   4.8547   -0.2815   \n",
       "6  20181024_d1_0830_0900_1   37.977389   23.737689   4.8033   -0.4320   \n",
       "7  20181024_d1_0830_0900_1   37.977388   23.737690   4.7318   -0.5617   \n",
       "8  20181024_d1_0830_0900_1   37.977388   23.737690   4.6442   -0.6543   \n",
       "9  20181024_d1_0830_0900_1   37.977388   23.737690   4.5437   -0.7413   \n",
       "\n",
       "    lat_acc       time  \n",
       "0   -0.0299   0.000000  \n",
       "1   -0.0354   0.040000  \n",
       "2   -0.0413   0.080000  \n",
       "3   -0.0478   0.120000  \n",
       "4   -0.0550   0.160000  \n",
       "5   -0.0628   0.200000  \n",
       "6   -0.0713   0.240000  \n",
       "7   -0.0804   0.280000  \n",
       "8   -0.0905   0.320000  \n",
       "9   -0.1017   0.360000  "
      ]
     },
     "execution_count": 51,
     "metadata": {},
     "output_type": "execute_result"
    }
   ],
   "source": [
    "vehicle.head(10)"
   ]
  },
  {
   "cell_type": "code",
   "execution_count": 52,
   "id": "563cb354",
   "metadata": {},
   "outputs": [
    {
     "name": "stdout",
     "output_type": "stream",
     "text": [
      "<class 'pandas.core.frame.DataFrame'>\n",
      "RangeIndex: 34003 entries, 0 to 34002\n",
      "Data columns (total 7 columns):\n",
      " #   Column    Non-Null Count  Dtype \n",
      "---  ------    --------------  ----- \n",
      " 0   track_id  34003 non-null  object\n",
      " 1    lat      34003 non-null  object\n",
      " 2    lon      33984 non-null  object\n",
      " 3    speed    33984 non-null  object\n",
      " 4    lon_acc  33984 non-null  object\n",
      " 5    lat_acc  33984 non-null  object\n",
      " 6    time     33984 non-null  object\n",
      "dtypes: object(7)\n",
      "memory usage: 1.8+ MB\n"
     ]
    }
   ],
   "source": [
    "# before load the data\n",
    "vehicle.info()"
   ]
  },
  {
   "cell_type": "code",
   "execution_count": 53,
   "id": "ca7bc3fb",
   "metadata": {},
   "outputs": [
    {
     "data": {
      "text/plain": [
       "0"
      ]
     },
     "execution_count": 53,
     "metadata": {},
     "output_type": "execute_result"
    }
   ],
   "source": [
    "# check duplicates.\n",
    "vehicle.duplicated().sum()"
   ]
  },
  {
   "cell_type": "code",
   "execution_count": 54,
   "id": "27372e50",
   "metadata": {},
   "outputs": [
    {
     "name": "stdout",
     "output_type": "stream",
     "text": [
      "<class 'pandas.core.frame.DataFrame'>\n",
      "RangeIndex: 19 entries, 0 to 18\n",
      "Data columns (total 4 columns):\n",
      " #   Column       Non-Null Count  Dtype \n",
      "---  ------       --------------  ----- \n",
      " 0   track_id     19 non-null     object\n",
      " 1    type        19 non-null     object\n",
      " 2    traveled_d  19 non-null     object\n",
      " 3    avg_speed   19 non-null     object\n",
      "dtypes: object(4)\n",
      "memory usage: 736.0+ bytes\n"
     ]
    }
   ],
   "source": [
    "trajectory.info()"
   ]
  },
  {
   "cell_type": "code",
   "execution_count": 55,
   "id": "dc71c121",
   "metadata": {},
   "outputs": [
    {
     "data": {
      "text/plain": [
       "0"
      ]
     },
     "execution_count": 55,
     "metadata": {},
     "output_type": "execute_result"
    }
   ],
   "source": [
    "trajectory.duplicated().sum()"
   ]
  },
  {
   "cell_type": "code",
   "execution_count": 33,
   "id": "19c3a5cb-c2a1-469f-afa2-01e373ca11dd",
   "metadata": {},
   "outputs": [],
   "source": [
    "vehicle.to_csv('../data/vehicle.csv',index=False)"
   ]
  },
  {
   "cell_type": "code",
   "execution_count": 17,
   "id": "b999839a-9ff6-4b56-ba42-a770affc61b9",
   "metadata": {},
   "outputs": [],
   "source": [
    "trajectory.to_csv('../data/trajectory.csv',index=False)"
   ]
  }
 ],
 "metadata": {
  "kernelspec": {
   "display_name": "Python 3 (ipykernel)",
   "language": "python",
   "name": "python3"
  },
  "language_info": {
   "codemirror_mode": {
    "name": "ipython",
    "version": 3
   },
   "file_extension": ".py",
   "mimetype": "text/x-python",
   "name": "python",
   "nbconvert_exporter": "python",
   "pygments_lexer": "ipython3",
   "version": "3.10.8"
  }
 },
 "nbformat": 4,
 "nbformat_minor": 5
}
